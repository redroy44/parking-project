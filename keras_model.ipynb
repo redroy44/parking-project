{
 "cells": [
  {
   "cell_type": "code",
   "execution_count": 1,
   "metadata": {},
   "outputs": [
    {
     "name": "stderr",
     "output_type": "stream",
     "text": [
      "Using TensorFlow backend.\n"
     ]
    }
   ],
   "source": [
    "import matplotlib.pyplot as plt\n",
    "from matplotlib import ticker\n",
    "\n",
    "import seaborn as sns\n",
    "\n",
    "from keras.preprocessing.image import ImageDataGenerator\n",
    "from keras.models import Sequential\n",
    "from keras.layers import Convolution2D, MaxPooling2D\n",
    "from keras.layers import Activation, Dropout, Flatten, Dense\n",
    "from keras.callbacks import ModelCheckpoint, Callback, EarlyStopping, TensorBoard"
   ]
  },
  {
   "cell_type": "code",
   "execution_count": 2,
   "metadata": {
    "collapsed": true
   },
   "outputs": [],
   "source": [
    "# dimensions of our images.\n",
    "img_width, img_height = 50, 50\n",
    "\n",
    "train_data_dir = 'data/symlinks/train'\n",
    "validation_data_dir = 'data/symlinks/validation'\n",
    "test_data_dir = 'data/symlinks/test'\n",
    "nb_epoch = 10\n",
    "batch_size=128"
   ]
  },
  {
   "cell_type": "code",
   "execution_count": 19,
   "metadata": {
    "collapsed": true
   },
   "outputs": [],
   "source": [
    "# this is the augmentation configuration we will use for training\n",
    "train_datagen = ImageDataGenerator(\n",
    "        samplewise_center=True,\n",
    "        rescale=1./255,\n",
    "        shear_range=0.2,\n",
    "        zoom_range=0.2,\n",
    "        horizontal_flip=True)\n",
    "\n",
    "# this is the augmentation configuration we will use for testing:\n",
    "# only rescaling\n",
    "test_datagen = ImageDataGenerator(\n",
    "        samplewise_center=True,\n",
    "        rescale=1./255\n",
    ")"
   ]
  },
  {
   "cell_type": "code",
   "execution_count": 20,
   "metadata": {},
   "outputs": [
    {
     "name": "stdout",
     "output_type": "stream",
     "text": [
      "Found 87874 images belonging to 2 classes.\n",
      "Found 72289 images belonging to 2 classes.\n",
      "Found 48224 images belonging to 2 classes.\n"
     ]
    }
   ],
   "source": [
    "train_generator = train_datagen.flow_from_directory(\n",
    "        train_data_dir,\n",
    "        target_size=(img_width, img_height),\n",
    "        batch_size=batch_size,\n",
    "        class_mode='binary',\n",
    "        follow_links=True)\n",
    "\n",
    "validation_generator = test_datagen.flow_from_directory(\n",
    "        validation_data_dir,\n",
    "        target_size=(img_width, img_height),\n",
    "        batch_size=batch_size,\n",
    "        class_mode='binary',\n",
    "        follow_links=True)\n",
    "\n",
    "test_generator = test_datagen.flow_from_directory(\n",
    "        test_data_dir,\n",
    "        target_size=(img_width, img_height),\n",
    "        batch_size=batch_size,\n",
    "        shuffle=False,\n",
    "        class_mode='binary',\n",
    "        follow_links=True)"
   ]
  },
  {
   "cell_type": "code",
   "execution_count": 5,
   "metadata": {
    "collapsed": true
   },
   "outputs": [],
   "source": [
    "def get_model():\n",
    "    model = Sequential()\n",
    "    model.add(Convolution2D(32, (3, 3), input_shape=(img_width, img_height, 3)))\n",
    "    model.add(Activation('relu'))\n",
    "    model.add(MaxPooling2D(pool_size=(2, 2)))\n",
    "    \n",
    "    model.add(Convolution2D(32, (3, 3)))\n",
    "    model.add(Activation('relu'))\n",
    "    model.add(MaxPooling2D(pool_size=(2, 2)))\n",
    "    \n",
    "    model.add(Convolution2D(64, (3, 3)))\n",
    "    model.add(Activation('relu'))\n",
    "    model.add(MaxPooling2D(pool_size=(2, 2)))\n",
    "    \n",
    "    model.add(Flatten())\n",
    "    model.add(Dense(64))\n",
    "    model.add(Activation('relu'))\n",
    "    model.add(Dropout(0.5))\n",
    "    model.add(Dense(1))\n",
    "    model.add(Activation('sigmoid'))\n",
    "    \n",
    "    return model\n",
    "\n",
    "model = get_model()"
   ]
  },
  {
   "cell_type": "code",
   "execution_count": 9,
   "metadata": {},
   "outputs": [
    {
     "name": "stdout",
     "output_type": "stream",
     "text": [
      "_________________________________________________________________\n",
      "Layer (type)                 Output Shape              Param #   \n",
      "=================================================================\n",
      "conv2d_1 (Conv2D)            (None, 48, 48, 32)        896       \n",
      "_________________________________________________________________\n",
      "activation_1 (Activation)    (None, 48, 48, 32)        0         \n",
      "_________________________________________________________________\n",
      "max_pooling2d_1 (MaxPooling2 (None, 24, 24, 32)        0         \n",
      "_________________________________________________________________\n",
      "conv2d_2 (Conv2D)            (None, 22, 22, 32)        9248      \n",
      "_________________________________________________________________\n",
      "activation_2 (Activation)    (None, 22, 22, 32)        0         \n",
      "_________________________________________________________________\n",
      "max_pooling2d_2 (MaxPooling2 (None, 11, 11, 32)        0         \n",
      "_________________________________________________________________\n",
      "conv2d_3 (Conv2D)            (None, 9, 9, 64)          18496     \n",
      "_________________________________________________________________\n",
      "activation_3 (Activation)    (None, 9, 9, 64)          0         \n",
      "_________________________________________________________________\n",
      "max_pooling2d_3 (MaxPooling2 (None, 4, 4, 64)          0         \n",
      "_________________________________________________________________\n",
      "flatten_1 (Flatten)          (None, 1024)              0         \n",
      "_________________________________________________________________\n",
      "dense_1 (Dense)              (None, 64)                65600     \n",
      "_________________________________________________________________\n",
      "activation_4 (Activation)    (None, 64)                0         \n",
      "_________________________________________________________________\n",
      "dropout_1 (Dropout)          (None, 64)                0         \n",
      "_________________________________________________________________\n",
      "dense_2 (Dense)              (None, 1)                 65        \n",
      "_________________________________________________________________\n",
      "activation_5 (Activation)    (None, 1)                 0         \n",
      "=================================================================\n",
      "Total params: 94,305.0\n",
      "Trainable params: 94,305.0\n",
      "Non-trainable params: 0.0\n",
      "_________________________________________________________________\n"
     ]
    }
   ],
   "source": [
    "model.summary()"
   ]
  },
  {
   "cell_type": "code",
   "execution_count": 10,
   "metadata": {
    "collapsed": true
   },
   "outputs": [],
   "source": [
    "## Callback for loss logging per epoch\n",
    "class LossHistory(Callback):\n",
    "    def on_train_begin(self, logs={}):\n",
    "        self.losses = []\n",
    "        self.val_losses = []\n",
    "\n",
    "    def on_epoch_end(self, batch, logs={}):\n",
    "        self.losses.append(logs.get('loss'))\n",
    "        self.val_losses.append(logs.get('val_loss'))\n",
    "        \n",
    "history = LossHistory()"
   ]
  },
  {
   "cell_type": "code",
   "execution_count": 11,
   "metadata": {
    "collapsed": true
   },
   "outputs": [],
   "source": [
    "tensorboard = TensorBoard(log_dir='./logs', histogram_freq=0, write_graph=True, write_images=False)\n",
    "checkpointer = ModelCheckpoint(filepath=\"weights.hdf5\", verbose=0, save_best_only=True)"
   ]
  },
  {
   "cell_type": "code",
   "execution_count": 12,
   "metadata": {},
   "outputs": [
    {
     "name": "stdout",
     "output_type": "stream",
     "text": [
      "Epoch 1/10\n",
      "686/686 [============================>.] - ETA: 0s - loss: 0.0882 - acc: 0.9707Epoch 00000: val_loss improved from inf to 0.02989, saving model to weights.hdf5\n",
      "687/686 [==============================] - 40s - loss: 0.0881 - acc: 0.9707 - val_loss: 0.0299 - val_acc: 0.9914\n",
      "Epoch 2/10\n",
      "685/686 [============================>.] - ETA: 0s - loss: 0.0338 - acc: 0.9910Epoch 00001: val_loss improved from 0.02989 to 0.02986, saving model to weights.hdf5\n",
      "687/686 [==============================] - 40s - loss: 0.0337 - acc: 0.9910 - val_loss: 0.0299 - val_acc: 0.9920\n",
      "Epoch 3/10\n",
      "685/686 [============================>.] - ETA: 0s - loss: 0.0267 - acc: 0.9926Epoch 00002: val_loss did not improve\n",
      "687/686 [==============================] - 41s - loss: 0.0267 - acc: 0.9926 - val_loss: 0.0448 - val_acc: 0.9881\n",
      "Epoch 4/10\n",
      "686/686 [============================>.] - ETA: 0s - loss: 0.0240 - acc: 0.9939Epoch 00003: val_loss improved from 0.02986 to 0.01619, saving model to weights.hdf5\n",
      "687/686 [==============================] - 42s - loss: 0.0239 - acc: 0.9939 - val_loss: 0.0162 - val_acc: 0.9955\n",
      "Epoch 5/10\n",
      "685/686 [============================>.] - ETA: 0s - loss: 0.0220 - acc: 0.9942Epoch 00004: val_loss did not improve\n",
      "687/686 [==============================] - 45s - loss: 0.0221 - acc: 0.9942 - val_loss: 0.0168 - val_acc: 0.9952\n",
      "Epoch 6/10\n",
      "686/686 [============================>.] - ETA: 0s - loss: 0.0247 - acc: 0.9940Epoch 00005: val_loss improved from 0.01619 to 0.01320, saving model to weights.hdf5\n",
      "687/686 [==============================] - 44s - loss: 0.0247 - acc: 0.9940 - val_loss: 0.0132 - val_acc: 0.9965\n",
      "Epoch 7/10\n",
      "685/686 [============================>.] - ETA: 0s - loss: 0.0217 - acc: 0.9950Epoch 00006: val_loss did not improve\n",
      "687/686 [==============================] - 49s - loss: 0.0217 - acc: 0.9950 - val_loss: 0.0153 - val_acc: 0.9966\n",
      "Epoch 8/10\n",
      "685/686 [============================>.] - ETA: 0s - loss: 0.0196 - acc: 0.9951Epoch 00007: val_loss improved from 0.01320 to 0.01169, saving model to weights.hdf5\n",
      "687/686 [==============================] - 47s - loss: 0.0197 - acc: 0.9951 - val_loss: 0.0117 - val_acc: 0.9967\n",
      "Epoch 9/10\n",
      "686/686 [============================>.] - ETA: 0s - loss: 0.0204 - acc: 0.9952Epoch 00008: val_loss improved from 0.01169 to 0.01115, saving model to weights.hdf5\n",
      "687/686 [==============================] - 45s - loss: 0.0204 - acc: 0.9952 - val_loss: 0.0112 - val_acc: 0.9976\n",
      "Epoch 10/10\n",
      "686/686 [============================>.] - ETA: 0s - loss: 0.0215 - acc: 0.9951Epoch 00009: val_loss did not improve\n",
      "687/686 [==============================] - 48s - loss: 0.0215 - acc: 0.9951 - val_loss: 0.0115 - val_acc: 0.9971\n"
     ]
    },
    {
     "data": {
      "text/plain": [
       "<keras.callbacks.History at 0x7f0a49196940>"
      ]
     },
     "execution_count": 12,
     "metadata": {},
     "output_type": "execute_result"
    }
   ],
   "source": [
    "model.compile(loss='binary_crossentropy',\n",
    "              optimizer='rmsprop',\n",
    "              metrics=['accuracy'])\n",
    "\n",
    "model.fit_generator(\n",
    "        train_generator,\n",
    "        steps_per_epoch=train_generator.samples/batch_size,\n",
    "        epochs=nb_epoch,\n",
    "        validation_data=validation_generator,\n",
    "        verbose=1,\n",
    "        validation_steps=validation_generator.samples/batch_size,\n",
    "        workers=8,\n",
    "        pickle_safe=True,\n",
    "        callbacks=[history, tensorboard, checkpointer])"
   ]
  },
  {
   "cell_type": "code",
   "execution_count": 13,
   "metadata": {},
   "outputs": [
    {
     "data": {
      "image/png": "[encoded data removed]",
      "text/plain": [
       "<matplotlib.figure.Figure at 0x7f0a4873bac8>"
      ]
     },
     "metadata": {},
     "output_type": "display_data"
    }
   ],
   "source": [
    "loss = history.losses\n",
    "val_loss = history.val_losses\n",
    "\n",
    "plt.xlabel('Epochs')\n",
    "plt.ylabel('Loss')\n",
    "plt.title('Loss Trend')\n",
    "plt.plot(loss, 'blue', label='Training Loss')\n",
    "plt.plot(val_loss, 'green', label='Validation Loss')\n",
    "plt.xticks(range(0,nb_epoch)[0::2])\n",
    "plt.legend()\n",
    "\n",
    "plt.show()"
   ]
  },
  {
   "cell_type": "code",
   "execution_count": 21,
   "metadata": {},
   "outputs": [
    {
     "name": "stdout",
     "output_type": "stream",
     "text": [
      "test_loss: 0.0131 - test_acc: 0.9967\n"
     ]
    }
   ],
   "source": [
    "test_loss, test_acc = model.evaluate_generator(\n",
    "         test_generator,\n",
    "         workers=8,\n",
    "         pickle_safe=True,\n",
    "         steps=test_generator.samples/batch_size)\n",
    "\n",
    "print(\"test_loss: %.4f - test_acc: %.4f\"%(test_loss, test_acc))"
   ]
  },
  {
   "cell_type": "code",
   "execution_count": null,
   "metadata": {
    "collapsed": true
   },
   "outputs": [],
   "source": []
  }
 ],
 "metadata": {
  "kernelspec": {
   "display_name": "Python 3",
   "language": "python",
   "name": "python3"
  },
  "language_info": {
   "codemirror_mode": {
    "name": "ipython",
    "version": 3
   },
   "file_extension": ".py",
   "mimetype": "text/x-python",
   "name": "python",
   "nbconvert_exporter": "python",
   "pygments_lexer": "ipython3",
   "version": "3.6.1"
  }
 },
 "nbformat": 4,
 "nbformat_minor": 1
}
