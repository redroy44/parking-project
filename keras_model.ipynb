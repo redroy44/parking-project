{
 "cells": [
  {
   "cell_type": "code",
   "execution_count": 1,
   "metadata": {},
   "outputs": [
    {
     "name": "stderr",
     "output_type": "stream",
     "text": [
      "Using TensorFlow backend.\n"
     ]
    }
   ],
   "source": [
    "import matplotlib.pyplot as plt\n",
    "from matplotlib import ticker\n",
    "\n",
    "import seaborn as sns\n",
    "\n",
    "from keras.preprocessing.image import ImageDataGenerator\n",
    "from keras.models import Sequential\n",
    "from keras.layers import Convolution2D, MaxPooling2D\n",
    "from keras.layers import Activation, Dropout, Flatten, Dense\n",
    "from keras.callbacks import ModelCheckpoint, Callback, EarlyStopping, TensorBoard"
   ]
  },
  {
   "cell_type": "code",
   "execution_count": 2,
   "metadata": {
    "collapsed": true
   },
   "outputs": [],
   "source": [
    "# dimensions of our images.\n",
    "img_width, img_height = 50, 50\n",
    "\n",
    "train_data_dir = 'data/symlinks/train'\n",
    "validation_data_dir = 'data/symlinks/validation'\n",
    "test_data_dir = 'data/symlinks/test'\n",
    "nb_epoch = 10\n",
    "batch_size=128"
   ]
  },
  {
   "cell_type": "code",
   "execution_count": 3,
   "metadata": {
    "collapsed": true
   },
   "outputs": [],
   "source": [
    "# this is the augmentation configuration we will use for training\n",
    "train_datagen = ImageDataGenerator(\n",
    "        samplewise_center=True,\n",
    "        rescale=1./255,\n",
    "        shear_range=0.2,\n",
    "        zoom_range=0.2,\n",
    "        horizontal_flip=True)\n",
    "\n",
    "# this is the augmentation configuration we will use for testing:\n",
    "# only rescaling\n",
    "test_datagen = ImageDataGenerator(\n",
    "        samplewise_center=True,\n",
    "        rescale=1./255\n",
    ")"
   ]
  },
  {
   "cell_type": "code",
   "execution_count": 4,
   "metadata": {},
   "outputs": [
    {
     "name": "stdout",
     "output_type": "stream",
     "text": [
      "Found 87874 images belonging to 2 classes.\n",
      "Found 72289 images belonging to 2 classes.\n",
      "Found 48224 images belonging to 2 classes.\n"
     ]
    }
   ],
   "source": [
    "train_generator = train_datagen.flow_from_directory(\n",
    "        train_data_dir,\n",
    "        target_size=(img_width, img_height),\n",
    "        batch_size=batch_size,\n",
    "        class_mode='binary',\n",
    "        follow_links=True)\n",
    "\n",
    "validation_generator = test_datagen.flow_from_directory(\n",
    "        validation_data_dir,\n",
    "        target_size=(img_width, img_height),\n",
    "        batch_size=batch_size,\n",
    "        class_mode='binary',\n",
    "        follow_links=True)\n",
    "\n",
    "test_generator = test_datagen.flow_from_directory(\n",
    "        test_data_dir,\n",
    "        target_size=(img_width, img_height),\n",
    "        batch_size=batch_size,\n",
    "        shuffle=False,\n",
    "        class_mode='binary',\n",
    "        follow_links=True)"
   ]
  },
  {
   "cell_type": "code",
   "execution_count": 3,
   "metadata": {
    "collapsed": true
   },
   "outputs": [],
   "source": [
    "def get_model():\n",
    "    model = Sequential()\n",
    "    model.add(Convolution2D(32, (3, 3), input_shape=(img_width, img_height, 3)))\n",
    "    model.add(Activation('relu'))\n",
    "    model.add(MaxPooling2D(pool_size=(2, 2)))\n",
    "    \n",
    "    model.add(Convolution2D(32, (3, 3)))\n",
    "    model.add(Activation('relu'))\n",
    "    model.add(MaxPooling2D(pool_size=(2, 2)))\n",
    "    \n",
    "    model.add(Convolution2D(64, (3, 3)))\n",
    "    model.add(Activation('relu'))\n",
    "    model.add(MaxPooling2D(pool_size=(2, 2)))\n",
    "    \n",
    "    model.add(Flatten())\n",
    "    model.add(Dense(64))\n",
    "    model.add(Activation('relu'))\n",
    "    model.add(Dropout(0.5))\n",
    "    model.add(Dense(1))\n",
    "    model.add(Activation('sigmoid'))\n",
    "    \n",
    "    return model\n",
    "\n",
    "model = get_model()"
   ]
  },
  {
   "cell_type": "code",
   "execution_count": 9,
   "metadata": {},
   "outputs": [
    {
     "name": "stdout",
     "output_type": "stream",
     "text": [
      "_________________________________________________________________\n",
      "Layer (type)                 Output Shape              Param #   \n",
      "=================================================================\n",
      "conv2d_1 (Conv2D)            (None, 48, 48, 32)        896       \n",
      "_________________________________________________________________\n",
      "activation_1 (Activation)    (None, 48, 48, 32)        0         \n",
      "_________________________________________________________________\n",
      "max_pooling2d_1 (MaxPooling2 (None, 24, 24, 32)        0         \n",
      "_________________________________________________________________\n",
      "conv2d_2 (Conv2D)            (None, 22, 22, 32)        9248      \n",
      "_________________________________________________________________\n",
      "activation_2 (Activation)    (None, 22, 22, 32)        0         \n",
      "_________________________________________________________________\n",
      "max_pooling2d_2 (MaxPooling2 (None, 11, 11, 32)        0         \n",
      "_________________________________________________________________\n",
      "conv2d_3 (Conv2D)            (None, 9, 9, 64)          18496     \n",
      "_________________________________________________________________\n",
      "activation_3 (Activation)    (None, 9, 9, 64)          0         \n",
      "_________________________________________________________________\n",
      "max_pooling2d_3 (MaxPooling2 (None, 4, 4, 64)          0         \n",
      "_________________________________________________________________\n",
      "flatten_1 (Flatten)          (None, 1024)              0         \n",
      "_________________________________________________________________\n",
      "dense_1 (Dense)              (None, 64)                65600     \n",
      "_________________________________________________________________\n",
      "activation_4 (Activation)    (None, 64)                0         \n",
      "_________________________________________________________________\n",
      "dropout_1 (Dropout)          (None, 64)                0         \n",
      "_________________________________________________________________\n",
      "dense_2 (Dense)              (None, 1)                 65        \n",
      "_________________________________________________________________\n",
      "activation_5 (Activation)    (None, 1)                 0         \n",
      "=================================================================\n",
      "Total params: 94,305.0\n",
      "Trainable params: 94,305.0\n",
      "Non-trainable params: 0.0\n",
      "_________________________________________________________________\n"
     ]
    }
   ],
   "source": [
    "model.summary()"
   ]
  },
  {
   "cell_type": "code",
   "execution_count": 6,
   "metadata": {
    "collapsed": true
   },
   "outputs": [],
   "source": [
    "## Callback for loss logging per epoch\n",
    "class LossHistory(Callback):\n",
    "    def on_train_begin(self, logs={}):\n",
    "        self.losses = []\n",
    "        self.val_losses = []\n",
    "\n",
    "    def on_epoch_end(self, batch, logs={}):\n",
    "        self.losses.append(logs.get('loss'))\n",
    "        self.val_losses.append(logs.get('val_loss'))\n",
    "        \n",
    "history = LossHistory()"
   ]
  },
  {
   "cell_type": "code",
   "execution_count": 7,
   "metadata": {
    "collapsed": true
   },
   "outputs": [],
   "source": [
    "tensorboard = TensorBoard(log_dir='./logs', histogram_freq=0, write_graph=True, write_images=False)\n",
    "checkpointer = ModelCheckpoint(filepath=\"weights.hdf5\", verbose=0, save_best_only=True)"
   ]
  },
  {
   "cell_type": "code",
   "execution_count": 8,
   "metadata": {},
   "outputs": [
    {
     "name": "stdout",
     "output_type": "stream",
     "text": [
      "Epoch 1/10\n",
      "687/686 [==============================] - 40s - loss: 0.0857 - acc: 0.9719 - val_loss: 0.0170 - val_acc: 0.9941\n",
      "Epoch 2/10\n",
      "687/686 [==============================] - 40s - loss: 0.0308 - acc: 0.9917 - val_loss: 0.0165 - val_acc: 0.9954\n",
      "Epoch 3/10\n",
      "687/686 [==============================] - 43s - loss: 0.0258 - acc: 0.9928 - val_loss: 0.0125 - val_acc: 0.9965\n",
      "Epoch 4/10\n",
      "687/686 [==============================] - 46s - loss: 0.0204 - acc: 0.9942 - val_loss: 0.0138 - val_acc: 0.9958\n",
      "Epoch 5/10\n",
      "687/686 [==============================] - 44s - loss: 0.0203 - acc: 0.9944 - val_loss: 0.0147 - val_acc: 0.9962\n",
      "Epoch 6/10\n",
      "687/686 [==============================] - 47s - loss: 0.0168 - acc: 0.9955 - val_loss: 0.0134 - val_acc: 0.9956\n",
      "Epoch 7/10\n",
      "687/686 [==============================] - 56s - loss: 0.0168 - acc: 0.9959 - val_loss: 0.0137 - val_acc: 0.9963\n",
      "Epoch 8/10\n",
      "687/686 [==============================] - 46s - loss: 0.0153 - acc: 0.9960 - val_loss: 0.0159 - val_acc: 0.9961\n",
      "Epoch 9/10\n",
      "687/686 [==============================] - 49s - loss: 0.0123 - acc: 0.9965 - val_loss: 0.0115 - val_acc: 0.9970\n",
      "Epoch 10/10\n",
      "687/686 [==============================] - 56s - loss: 0.0132 - acc: 0.9964 - val_loss: 0.0137 - val_acc: 0.9967\n"
     ]
    },
    {
     "data": {
      "text/plain": [
       "<keras.callbacks.History at 0x7ff69d49d550>"
      ]
     },
     "execution_count": 8,
     "metadata": {},
     "output_type": "execute_result"
    }
   ],
   "source": [
    "model.compile(loss='binary_crossentropy',\n",
    "              optimizer='adam',\n",
    "              metrics=['accuracy'])\n",
    "\n",
    "model.fit_generator(\n",
    "        train_generator,\n",
    "        steps_per_epoch=train_generator.samples/batch_size,\n",
    "        epochs=nb_epoch,\n",
    "        validation_data=validation_generator,\n",
    "        verbose=1,\n",
    "        validation_steps=validation_generator.samples/batch_size,\n",
    "        workers=8,\n",
    "        pickle_safe=True,\n",
    "        callbacks=[history, tensorboard, checkpointer])"
   ]
  },
  {
   "cell_type": "code",
   "execution_count": 9,
   "metadata": {},
   "outputs": [
    {
     "data": {
      "image/png": "[encoded data removed]",
      "text/plain": [
       "<matplotlib.figure.Figure at 0x7ff69cf7d2e8>"
      ]
     },
     "metadata": {},
     "output_type": "display_data"
    }
   ],
   "source": [
    "loss = history.losses\n",
    "val_loss = history.val_losses\n",
    "\n",
    "plt.xlabel('Epochs')\n",
    "plt.ylabel('Loss')\n",
    "plt.title('Loss Trend')\n",
    "plt.plot(loss, 'blue', label='Training Loss')\n",
    "plt.plot(val_loss, 'green', label='Validation Loss')\n",
    "plt.xticks(range(0,nb_epoch)[0::2])\n",
    "plt.legend()\n",
    "\n",
    "plt.show()"
   ]
  },
  {
   "cell_type": "code",
   "execution_count": 10,
   "metadata": {},
   "outputs": [
    {
     "name": "stdout",
     "output_type": "stream",
     "text": [
      "test_loss: 0.0142 - test_acc: 0.9958\n"
     ]
    }
   ],
   "source": [
    "test_loss, test_acc = model.evaluate_generator(\n",
    "         test_generator,\n",
    "         workers=8,\n",
    "         pickle_safe=True,\n",
    "         steps=test_generator.samples/batch_size)\n",
    "\n",
    "print(\"test_loss: %.4f - test_acc: %.4f\"%(test_loss, test_acc))"
   ]
  },
  {
   "cell_type": "code",
   "execution_count": 4,
   "metadata": {
    "scrolled": true
   },
   "outputs": [
    {
     "data": {
      "image/svg+xml": [
       "<svg height=\"1140pt\" viewBox=\"0.00 0.00 215.00 1140.00\" width=\"215pt\" xmlns=\"http://www.w3.org/2000/svg\" xmlns:xlink=\"http://www.w3.org/1999/xlink\">\n",
       "<g class=\"graph\" id=\"graph0\" transform=\"scale(1 1) rotate(0) translate(4 1136)\">\n",
       "<title>G</title>\n",
       "<polygon fill=\"white\" points=\"-4,4 -4,-1136 211,-1136 211,4 -4,4\" stroke=\"none\"/>\n",
       "<!-- 139723272069192 -->\n",
       "<g class=\"node\" id=\"node1\"><title>139723272069192</title>\n",
       "<polygon fill=\"none\" points=\"17.5,-1095.5 17.5,-1131.5 189.5,-1131.5 189.5,-1095.5 17.5,-1095.5\" stroke=\"black\"/>\n",
       "<text font-family=\"Times,serif\" font-size=\"14.00\" text-anchor=\"middle\" x=\"103.5\" y=\"-1109.8\">conv2d_1_input: InputLayer</text>\n",
       "</g>\n",
       "<!-- 139723272064696 -->\n",
       "<g class=\"node\" id=\"node2\"><title>139723272064696</title>\n",
       "<polygon fill=\"none\" points=\"42,-1022.5 42,-1058.5 165,-1058.5 165,-1022.5 42,-1022.5\" stroke=\"black\"/>\n",
       "<text font-family=\"Times,serif\" font-size=\"14.00\" text-anchor=\"middle\" x=\"103.5\" y=\"-1036.8\">conv2d_1: Conv2D</text>\n",
       "</g>\n",
       "<!-- 139723272069192&#45;&gt;139723272064696 -->\n",
       "<g class=\"edge\" id=\"edge1\"><title>139723272069192-&gt;139723272064696</title>\n",
       "<path d=\"M103.5,-1095.31C103.5,-1087.29 103.5,-1077.55 103.5,-1068.57\" fill=\"none\" stroke=\"black\"/>\n",
       "<polygon fill=\"black\" points=\"107,-1068.53 103.5,-1058.53 100,-1068.53 107,-1068.53\" stroke=\"black\"/>\n",
       "</g>\n",
       "<!-- 139724614806384 -->\n",
       "<g class=\"node\" id=\"node3\"><title>139724614806384</title>\n",
       "<polygon fill=\"none\" points=\"29.5,-949.5 29.5,-985.5 177.5,-985.5 177.5,-949.5 29.5,-949.5\" stroke=\"black\"/>\n",
       "<text font-family=\"Times,serif\" font-size=\"14.00\" text-anchor=\"middle\" x=\"103.5\" y=\"-963.8\">activation_1: Activation</text>\n",
       "</g>\n",
       "<!-- 139723272064696&#45;&gt;139724614806384 -->\n",
       "<g class=\"edge\" id=\"edge2\"><title>139723272064696-&gt;139724614806384</title>\n",
       "<path d=\"M103.5,-1022.31C103.5,-1014.29 103.5,-1004.55 103.5,-995.569\" fill=\"none\" stroke=\"black\"/>\n",
       "<polygon fill=\"black\" points=\"107,-995.529 103.5,-985.529 100,-995.529 107,-995.529\" stroke=\"black\"/>\n",
       "</g>\n",
       "<!-- 139724614807168 -->\n",
       "<g class=\"node\" id=\"node4\"><title>139724614807168</title>\n",
       "<polygon fill=\"none\" points=\"0,-876.5 0,-912.5 207,-912.5 207,-876.5 0,-876.5\" stroke=\"black\"/>\n",
       "<text font-family=\"Times,serif\" font-size=\"14.00\" text-anchor=\"middle\" x=\"103.5\" y=\"-890.8\">max_pooling2d_1: MaxPooling2D</text>\n",
       "</g>\n",
       "<!-- 139724614806384&#45;&gt;139724614807168 -->\n",
       "<g class=\"edge\" id=\"edge3\"><title>139724614806384-&gt;139724614807168</title>\n",
       "<path d=\"M103.5,-949.313C103.5,-941.289 103.5,-931.547 103.5,-922.569\" fill=\"none\" stroke=\"black\"/>\n",
       "<polygon fill=\"black\" points=\"107,-922.529 103.5,-912.529 100,-922.529 107,-922.529\" stroke=\"black\"/>\n",
       "</g>\n",
       "<!-- 139723267079024 -->\n",
       "<g class=\"node\" id=\"node5\"><title>139723267079024</title>\n",
       "<polygon fill=\"none\" points=\"42,-803.5 42,-839.5 165,-839.5 165,-803.5 42,-803.5\" stroke=\"black\"/>\n",
       "<text font-family=\"Times,serif\" font-size=\"14.00\" text-anchor=\"middle\" x=\"103.5\" y=\"-817.8\">conv2d_2: Conv2D</text>\n",
       "</g>\n",
       "<!-- 139724614807168&#45;&gt;139723267079024 -->\n",
       "<g class=\"edge\" id=\"edge4\"><title>139724614807168-&gt;139723267079024</title>\n",
       "<path d=\"M103.5,-876.313C103.5,-868.289 103.5,-858.547 103.5,-849.569\" fill=\"none\" stroke=\"black\"/>\n",
       "<polygon fill=\"black\" points=\"107,-849.529 103.5,-839.529 100,-849.529 107,-849.529\" stroke=\"black\"/>\n",
       "</g>\n",
       "<!-- 139723267078744 -->\n",
       "<g class=\"node\" id=\"node6\"><title>139723267078744</title>\n",
       "<polygon fill=\"none\" points=\"29.5,-730.5 29.5,-766.5 177.5,-766.5 177.5,-730.5 29.5,-730.5\" stroke=\"black\"/>\n",
       "<text font-family=\"Times,serif\" font-size=\"14.00\" text-anchor=\"middle\" x=\"103.5\" y=\"-744.8\">activation_2: Activation</text>\n",
       "</g>\n",
       "<!-- 139723267079024&#45;&gt;139723267078744 -->\n",
       "<g class=\"edge\" id=\"edge5\"><title>139723267079024-&gt;139723267078744</title>\n",
       "<path d=\"M103.5,-803.313C103.5,-795.289 103.5,-785.547 103.5,-776.569\" fill=\"none\" stroke=\"black\"/>\n",
       "<polygon fill=\"black\" points=\"107,-776.529 103.5,-766.529 100,-776.529 107,-776.529\" stroke=\"black\"/>\n",
       "</g>\n",
       "<!-- 139723267078576 -->\n",
       "<g class=\"node\" id=\"node7\"><title>139723267078576</title>\n",
       "<polygon fill=\"none\" points=\"0,-657.5 0,-693.5 207,-693.5 207,-657.5 0,-657.5\" stroke=\"black\"/>\n",
       "<text font-family=\"Times,serif\" font-size=\"14.00\" text-anchor=\"middle\" x=\"103.5\" y=\"-671.8\">max_pooling2d_2: MaxPooling2D</text>\n",
       "</g>\n",
       "<!-- 139723267078744&#45;&gt;139723267078576 -->\n",
       "<g class=\"edge\" id=\"edge6\"><title>139723267078744-&gt;139723267078576</title>\n",
       "<path d=\"M103.5,-730.313C103.5,-722.289 103.5,-712.547 103.5,-703.569\" fill=\"none\" stroke=\"black\"/>\n",
       "<polygon fill=\"black\" points=\"107,-703.529 103.5,-693.529 100,-703.529 107,-703.529\" stroke=\"black\"/>\n",
       "</g>\n",
       "<!-- 139723267158424 -->\n",
       "<g class=\"node\" id=\"node8\"><title>139723267158424</title>\n",
       "<polygon fill=\"none\" points=\"42,-584.5 42,-620.5 165,-620.5 165,-584.5 42,-584.5\" stroke=\"black\"/>\n",
       "<text font-family=\"Times,serif\" font-size=\"14.00\" text-anchor=\"middle\" x=\"103.5\" y=\"-598.8\">conv2d_3: Conv2D</text>\n",
       "</g>\n",
       "<!-- 139723267078576&#45;&gt;139723267158424 -->\n",
       "<g class=\"edge\" id=\"edge7\"><title>139723267078576-&gt;139723267158424</title>\n",
       "<path d=\"M103.5,-657.313C103.5,-649.289 103.5,-639.547 103.5,-630.569\" fill=\"none\" stroke=\"black\"/>\n",
       "<polygon fill=\"black\" points=\"107,-630.529 103.5,-620.529 100,-630.529 107,-630.529\" stroke=\"black\"/>\n",
       "</g>\n",
       "<!-- 139723266726320 -->\n",
       "<g class=\"node\" id=\"node9\"><title>139723266726320</title>\n",
       "<polygon fill=\"none\" points=\"29.5,-511.5 29.5,-547.5 177.5,-547.5 177.5,-511.5 29.5,-511.5\" stroke=\"black\"/>\n",
       "<text font-family=\"Times,serif\" font-size=\"14.00\" text-anchor=\"middle\" x=\"103.5\" y=\"-525.8\">activation_3: Activation</text>\n",
       "</g>\n",
       "<!-- 139723267158424&#45;&gt;139723266726320 -->\n",
       "<g class=\"edge\" id=\"edge8\"><title>139723267158424-&gt;139723266726320</title>\n",
       "<path d=\"M103.5,-584.313C103.5,-576.289 103.5,-566.547 103.5,-557.569\" fill=\"none\" stroke=\"black\"/>\n",
       "<polygon fill=\"black\" points=\"107,-557.529 103.5,-547.529 100,-557.529 107,-557.529\" stroke=\"black\"/>\n",
       "</g>\n",
       "<!-- 139723266727104 -->\n",
       "<g class=\"node\" id=\"node10\"><title>139723266727104</title>\n",
       "<polygon fill=\"none\" points=\"0,-438.5 0,-474.5 207,-474.5 207,-438.5 0,-438.5\" stroke=\"black\"/>\n",
       "<text font-family=\"Times,serif\" font-size=\"14.00\" text-anchor=\"middle\" x=\"103.5\" y=\"-452.8\">max_pooling2d_3: MaxPooling2D</text>\n",
       "</g>\n",
       "<!-- 139723266726320&#45;&gt;139723266727104 -->\n",
       "<g class=\"edge\" id=\"edge9\"><title>139723266726320-&gt;139723266727104</title>\n",
       "<path d=\"M103.5,-511.313C103.5,-503.289 103.5,-493.547 103.5,-484.569\" fill=\"none\" stroke=\"black\"/>\n",
       "<polygon fill=\"black\" points=\"107,-484.529 103.5,-474.529 100,-484.529 107,-484.529\" stroke=\"black\"/>\n",
       "</g>\n",
       "<!-- 139723266785688 -->\n",
       "<g class=\"node\" id=\"node11\"><title>139723266785688</title>\n",
       "<polygon fill=\"none\" points=\"48.5,-365.5 48.5,-401.5 158.5,-401.5 158.5,-365.5 48.5,-365.5\" stroke=\"black\"/>\n",
       "<text font-family=\"Times,serif\" font-size=\"14.00\" text-anchor=\"middle\" x=\"103.5\" y=\"-379.8\">flatten_1: Flatten</text>\n",
       "</g>\n",
       "<!-- 139723266727104&#45;&gt;139723266785688 -->\n",
       "<g class=\"edge\" id=\"edge10\"><title>139723266727104-&gt;139723266785688</title>\n",
       "<path d=\"M103.5,-438.313C103.5,-430.289 103.5,-420.547 103.5,-411.569\" fill=\"none\" stroke=\"black\"/>\n",
       "<polygon fill=\"black\" points=\"107,-411.529 103.5,-401.529 100,-411.529 107,-411.529\" stroke=\"black\"/>\n",
       "</g>\n",
       "<!-- 139723266866032 -->\n",
       "<g class=\"node\" id=\"node12\"><title>139723266866032</title>\n",
       "<polygon fill=\"none\" points=\"52.5,-292.5 52.5,-328.5 154.5,-328.5 154.5,-292.5 52.5,-292.5\" stroke=\"black\"/>\n",
       "<text font-family=\"Times,serif\" font-size=\"14.00\" text-anchor=\"middle\" x=\"103.5\" y=\"-306.8\">dense_1: Dense</text>\n",
       "</g>\n",
       "<!-- 139723266785688&#45;&gt;139723266866032 -->\n",
       "<g class=\"edge\" id=\"edge11\"><title>139723266785688-&gt;139723266866032</title>\n",
       "<path d=\"M103.5,-365.313C103.5,-357.289 103.5,-347.547 103.5,-338.569\" fill=\"none\" stroke=\"black\"/>\n",
       "<polygon fill=\"black\" points=\"107,-338.529 103.5,-328.529 100,-338.529 107,-338.529\" stroke=\"black\"/>\n",
       "</g>\n",
       "<!-- 139723266938920 -->\n",
       "<g class=\"node\" id=\"node13\"><title>139723266938920</title>\n",
       "<polygon fill=\"none\" points=\"29.5,-219.5 29.5,-255.5 177.5,-255.5 177.5,-219.5 29.5,-219.5\" stroke=\"black\"/>\n",
       "<text font-family=\"Times,serif\" font-size=\"14.00\" text-anchor=\"middle\" x=\"103.5\" y=\"-233.8\">activation_4: Activation</text>\n",
       "</g>\n",
       "<!-- 139723266866032&#45;&gt;139723266938920 -->\n",
       "<g class=\"edge\" id=\"edge12\"><title>139723266866032-&gt;139723266938920</title>\n",
       "<path d=\"M103.5,-292.313C103.5,-284.289 103.5,-274.547 103.5,-265.569\" fill=\"none\" stroke=\"black\"/>\n",
       "<polygon fill=\"black\" points=\"107,-265.529 103.5,-255.529 100,-265.529 107,-265.529\" stroke=\"black\"/>\n",
       "</g>\n",
       "<!-- 139723266939256 -->\n",
       "<g class=\"node\" id=\"node14\"><title>139723266939256</title>\n",
       "<polygon fill=\"none\" points=\"41,-146.5 41,-182.5 166,-182.5 166,-146.5 41,-146.5\" stroke=\"black\"/>\n",
       "<text font-family=\"Times,serif\" font-size=\"14.00\" text-anchor=\"middle\" x=\"103.5\" y=\"-160.8\">dropout_1: Dropout</text>\n",
       "</g>\n",
       "<!-- 139723266938920&#45;&gt;139723266939256 -->\n",
       "<g class=\"edge\" id=\"edge13\"><title>139723266938920-&gt;139723266939256</title>\n",
       "<path d=\"M103.5,-219.313C103.5,-211.289 103.5,-201.547 103.5,-192.569\" fill=\"none\" stroke=\"black\"/>\n",
       "<polygon fill=\"black\" points=\"107,-192.529 103.5,-182.529 100,-192.529 107,-192.529\" stroke=\"black\"/>\n",
       "</g>\n",
       "<!-- 139723266938808 -->\n",
       "<g class=\"node\" id=\"node15\"><title>139723266938808</title>\n",
       "<polygon fill=\"none\" points=\"52.5,-73.5 52.5,-109.5 154.5,-109.5 154.5,-73.5 52.5,-73.5\" stroke=\"black\"/>\n",
       "<text font-family=\"Times,serif\" font-size=\"14.00\" text-anchor=\"middle\" x=\"103.5\" y=\"-87.8\">dense_2: Dense</text>\n",
       "</g>\n",
       "<!-- 139723266939256&#45;&gt;139723266938808 -->\n",
       "<g class=\"edge\" id=\"edge14\"><title>139723266939256-&gt;139723266938808</title>\n",
       "<path d=\"M103.5,-146.313C103.5,-138.289 103.5,-128.547 103.5,-119.569\" fill=\"none\" stroke=\"black\"/>\n",
       "<polygon fill=\"black\" points=\"107,-119.529 103.5,-109.529 100,-119.529 107,-119.529\" stroke=\"black\"/>\n",
       "</g>\n",
       "<!-- 139723266592160 -->\n",
       "<g class=\"node\" id=\"node16\"><title>139723266592160</title>\n",
       "<polygon fill=\"none\" points=\"29.5,-0.5 29.5,-36.5 177.5,-36.5 177.5,-0.5 29.5,-0.5\" stroke=\"black\"/>\n",
       "<text font-family=\"Times,serif\" font-size=\"14.00\" text-anchor=\"middle\" x=\"103.5\" y=\"-14.8\">activation_5: Activation</text>\n",
       "</g>\n",
       "<!-- 139723266938808&#45;&gt;139723266592160 -->\n",
       "<g class=\"edge\" id=\"edge15\"><title>139723266938808-&gt;139723266592160</title>\n",
       "<path d=\"M103.5,-73.3129C103.5,-65.2895 103.5,-55.5475 103.5,-46.5691\" fill=\"none\" stroke=\"black\"/>\n",
       "<polygon fill=\"black\" points=\"107,-46.5288 103.5,-36.5288 100,-46.5289 107,-46.5288\" stroke=\"black\"/>\n",
       "</g>\n",
       "</g>\n",
       "</svg>"
      ],
      "text/plain": [
       "<IPython.core.display.SVG object>"
      ]
     },
     "execution_count": 4,
     "metadata": {},
     "output_type": "execute_result"
    }
   ],
   "source": [
    "from IPython.display import SVG\n",
    "from keras.utils.vis_utils import model_to_dot\n",
    "\n",
    "SVG(model_to_dot(model).create(prog='dot', format='svg'))"
   ]
  },
  {
   "cell_type": "code",
   "execution_count": null,
   "metadata": {
    "collapsed": true
   },
   "outputs": [],
   "source": []
  }
 ],
 "metadata": {
  "kernelspec": {
   "display_name": "Python 3",
   "language": "python",
   "name": "python3"
  },
  "language_info": {
   "codemirror_mode": {
    "name": "ipython",
    "version": 3
   },
   "file_extension": ".py",
   "mimetype": "text/x-python",
   "name": "python",
   "nbconvert_exporter": "python",
   "pygments_lexer": "ipython3",
   "version": "3.6.1"
  }
 },
 "nbformat": 4,
 "nbformat_minor": 1
}
